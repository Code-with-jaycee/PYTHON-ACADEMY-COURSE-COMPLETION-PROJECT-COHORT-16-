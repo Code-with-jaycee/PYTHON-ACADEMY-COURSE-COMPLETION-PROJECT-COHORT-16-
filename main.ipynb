{
 "cells": [
  {
   "cell_type": "markdown",
   "metadata": {},
   "source": [
    "Imports\n"
   ]
  },
  {
   "cell_type": "code",
   "execution_count": null,
   "metadata": {},
   "outputs": [],
   "source": []
  },
  {
   "cell_type": "code",
   "execution_count": null,
   "metadata": {},
   "outputs": [],
   "source": [
    "from pathlib import *\n",
    "import pandas as pd\n",
    "import os\n",
    "from decimal import *\n",
    "\n",
    "\n",
    "\n",
    "\n",
    "\n"
   ]
  },
  {
   "cell_type": "markdown",
   "metadata": {},
   "source": [
    "Reading the student and identity codes file using pd.read_csv()"
   ]
  },
  {
   "cell_type": "code",
   "execution_count": null,
   "metadata": {},
   "outputs": [],
   "source": [
    "# HERE = os.path.join(os.path.dirname(__file__), '..')\n",
    "\n",
    "# DATA_FOLDER = HERE  +\"\\data\"\n",
    "\n",
    "\n",
    "roster = pd.read_csv(\n",
    "    \"data/roster.csv\",\n",
    "    # converters={\"NetID\": str.lower, \"Email Address\": str.lower},\n",
    "    usecols=[\"Student name\", \"ID\"],\n",
    "    # Set index\n",
    "    index_col=[\"ID\", \"Student name\"],\n",
    ")"
   ]
  },
  {
   "cell_type": "code",
   "execution_count": null,
   "metadata": {},
   "outputs": [],
   "source": [
    "Test_quiz = pd.read_csv(\"data/quiz__grades.csv\")\n",
    "Test_quiz.head()"
   ]
  },
  {
   "cell_type": "code",
   "execution_count": null,
   "metadata": {},
   "outputs": [],
   "source": [
    "# chem_quiz = input(\"Enter the name of the student: \")\n",
    "# for i,j in Test_quiz[\"Student name\"], Test_quiz[\"ID\"]:\n",
    "#     if i == chem_quiz | j == chem_quiz :\n",
    "#         quiz = Test_quiz.loc[Test_quiz[\"Student name\"]== i]\n",
    "#         print(quiz.iloc[:1, :3])\n"
   ]
  },
  {
   "cell_type": "code",
   "execution_count": null,
   "metadata": {},
   "outputs": [],
   "source": [
    "# from utils import file_path\n",
    "\n",
    "# quiz_name = \" \".join({})\n",
    "quiz_grades = pd.DataFrame()\n",
    "\n",
    "quiz = pd.read_csv(\n",
    "     \"data/quiz__grades.csv\",\n",
    "     index_col= [\"ID\", \"Student name\"],\n",
    "     usecols=[\"Student name\", \"ID\", \"Chem Quiz\", \"Bio Quiz\", \"Phy Quiz\", \"Math Quiz\"]\n",
    "\n",
    "\n",
    "\n",
    ")\n",
    "quiz_grades = pd.concat([quiz_grades, quiz], axis=0)\n",
    "quiz_grades.head()\n"
   ]
  },
  {
   "cell_type": "code",
   "execution_count": null,
   "metadata": {},
   "outputs": [],
   "source": [
    "hw_exam_grades = pd.read_csv(\n",
    "    \"data/homework.csv\",\n",
    "    usecols= lambda x: \"Submission\" not in x,\n",
    "    index_col=[\"ID\",  \"Student name\"],\n",
    ")\n",
    "hw_exam_grades.head()"
   ]
  },
  {
   "cell_type": "code",
   "execution_count": null,
   "metadata": {},
   "outputs": [],
   "source": [
    "hw_exam_grades[\"Chem HW\"].head()"
   ]
  },
  {
   "cell_type": "code",
   "execution_count": null,
   "metadata": {},
   "outputs": [],
   "source": [
    "attendance = pd.read_csv(\n",
    "    \"data/Attendance.csv\",\n",
    "    usecols=[\"Student name\", \"ID\", \"Chem\", \"Bio\", \"Phy\", \"Math\"],\n",
    "    index_col=[\"ID\", \"Student name\"]\n",
    ").rename(columns={\"Chem\": \"Chem Atnd\", \"Bio\": \"Bio Atnd\", \"Phy\": \"Phy Atnd\", \"Math\": \"Math Atnd\"})"
   ]
  },
  {
   "cell_type": "code",
   "execution_count": null,
   "metadata": {},
   "outputs": [],
   "source": [
    "attendance"
   ]
  },
  {
   "cell_type": "markdown",
   "metadata": {},
   "source": [
    "Loading the Quiz Files"
   ]
  },
  {
   "cell_type": "code",
   "execution_count": null,
   "metadata": {},
   "outputs": [],
   "source": [
    "Exam = pd.read_csv(\n",
    "    \"data/Exam.csv\",\n",
    "    usecols=[\"Student name\", \"ID\", \"Chem\", \"Bio\", \"Phy\", \"Math\"],\n",
    "    index_col=[\"ID\", \"Student name\"]\n",
    ").rename(columns={\"Chem\": \"Chem Exam\", \"Bio\": \"Bio Exam\", \"Phy\": \"Phy Exam\", \"Math\": \"Math Exam\"})"
   ]
  },
  {
   "cell_type": "code",
   "execution_count": null,
   "metadata": {},
   "outputs": [],
   "source": [
    "Exam.head()"
   ]
  },
  {
   "cell_type": "markdown",
   "metadata": {},
   "source": [
    "Merging"
   ]
  },
  {
   "cell_type": "code",
   "execution_count": null,
   "metadata": {},
   "outputs": [],
   "source": [
    "final_data = pd.merge(\n",
    "    roster, hw_exam_grades, left_index= True, right_index=True,\n",
    ")\n",
    "final_data.head()"
   ]
  },
  {
   "cell_type": "code",
   "execution_count": null,
   "metadata": {},
   "outputs": [],
   "source": [
    "final_data = pd.merge(\n",
    "    final_data, quiz_grades, left_index=True, right_index=True,\n",
    ")\n"
   ]
  },
  {
   "cell_type": "code",
   "execution_count": null,
   "metadata": {},
   "outputs": [],
   "source": [
    "final_data = pd.merge(\n",
    "    final_data, attendance, left_index=True, right_index=True,\n",
    ")"
   ]
  },
  {
   "cell_type": "code",
   "execution_count": null,
   "metadata": {},
   "outputs": [],
   "source": [
    "final_data.head()"
   ]
  },
  {
   "cell_type": "code",
   "execution_count": null,
   "metadata": {},
   "outputs": [],
   "source": [
    "final_data = pd.merge(\n",
    "    final_data, Exam, left_index=True, right_index=True,\n",
    ")"
   ]
  },
  {
   "cell_type": "code",
   "execution_count": null,
   "metadata": {},
   "outputs": [],
   "source": [
    "final_data.head()"
   ]
  },
  {
   "cell_type": "markdown",
   "metadata": {},
   "source": [
    "Calculating average chemistry\n"
   ]
  },
  {
   "cell_type": "code",
   "execution_count": null,
   "metadata": {},
   "outputs": [],
   "source": [
    "final_data.columns"
   ]
  },
  {
   "cell_type": "code",
   "execution_count": null,
   "metadata": {},
   "outputs": [],
   "source": [
    "final_data[\"Chem AVG\"] = ((final_data[\"Chem HW\"] * (15/190)) + (final_data[\"Chem Quiz\"] * (3/19)) + (final_data[\"Chem Atnd\"] * (0.125)) + (final_data[\"Chem Exam\"] * (0.43))).round(2)\n",
    "    \n"
   ]
  },
  {
   "cell_type": "code",
   "execution_count": null,
   "metadata": {},
   "outputs": [],
   "source": [
    "final_data.head()"
   ]
  },
  {
   "cell_type": "markdown",
   "metadata": {},
   "source": [
    "Calculating bio average"
   ]
  },
  {
   "cell_type": "code",
   "execution_count": null,
   "metadata": {},
   "outputs": [],
   "source": [
    "final_data.columns"
   ]
  },
  {
   "cell_type": "code",
   "execution_count": null,
   "metadata": {},
   "outputs": [],
   "source": [
    "final_data[\"Bio  AVG\"] = ((final_data[\"Bio HW\"] * (15/190)) + (final_data[\"Bio Quiz\"] * (3/19)) + (final_data[\"Bio Atnd\"] * (0.125)) + (final_data[\"Bio Exam\"] * (0.43))).round(2)\n",
    "# final_data[\"Bio  AVG\"] = final_data[\"Bio  AVG\"].round(2)"
   ]
  },
  {
   "cell_type": "code",
   "execution_count": null,
   "metadata": {},
   "outputs": [],
   "source": [
    "final_data.head()"
   ]
  },
  {
   "cell_type": "markdown",
   "metadata": {},
   "source": [
    "Calculating physics average"
   ]
  },
  {
   "cell_type": "code",
   "execution_count": null,
   "metadata": {},
   "outputs": [],
   "source": [
    "final_data[\"Phy AVG\"] = ((final_data[\"Phy HW\"] * (15/190)) + (final_data[\"Phy Quiz\"] * (3/19)) + (final_data[\"Phy Atnd\"] * (0.125)) + (final_data[\"Phy Exam\"] * (0.43))).round(2)\n",
    "# final_data[\"Phy  AVG\"] = final_data[\"Phy  AVG\"].round(2)"
   ]
  },
  {
   "cell_type": "code",
   "execution_count": null,
   "metadata": {},
   "outputs": [],
   "source": [
    "final_data.head()"
   ]
  },
  {
   "cell_type": "markdown",
   "metadata": {},
   "source": [
    "Calculating average score for Math"
   ]
  },
  {
   "cell_type": "code",
   "execution_count": null,
   "metadata": {},
   "outputs": [],
   "source": [
    "final_data[\"Math AVG\"] = ((final_data[\"Math HW\"] * (15/190)) + (final_data[\"Math Quiz\"] * (3/19)) + (final_data[\"Math Atnd\"] * (0.125)) + (final_data[\"Math Exam\"] * (0.43))).round(2)\n"
   ]
  },
  {
   "cell_type": "code",
   "execution_count": null,
   "metadata": {},
   "outputs": [],
   "source": [
    "final_data.head()"
   ]
  },
  {
   "cell_type": "markdown",
   "metadata": {},
   "source": [
    "Calculating total average score"
   ]
  },
  {
   "cell_type": "code",
   "execution_count": null,
   "metadata": {},
   "outputs": [],
   "source": [
    "final_data[\"Avg Score\"] = ((final_data[\"Chem AVG\"] + final_data[\"Bio  AVG\"] + final_data[\"Phy AVG\"] + final_data[\"Math AVG\"])/4).round(2)\n"
   ]
  },
  {
   "cell_type": "code",
   "execution_count": null,
   "metadata": {},
   "outputs": [],
   "source": [
    "final_data.head()"
   ]
  },
  {
   "cell_type": "markdown",
   "metadata": {},
   "source": [
    "Calculating GPA"
   ]
  },
  {
   "cell_type": "code",
   "execution_count": null,
   "metadata": {},
   "outputs": [],
   "source": [
    "final_data[\"(GPA)\"] = (final_data[\"Avg Score\"] * 0.05).round(2)"
   ]
  },
  {
   "cell_type": "code",
   "execution_count": null,
   "metadata": {},
   "outputs": [],
   "source": [
    "final_data"
   ]
  },
  {
   "cell_type": "markdown",
   "metadata": {},
   "source": [
    "Calculating grade"
   ]
  },
  {
   "cell_type": "code",
   "execution_count": null,
   "metadata": {},
   "outputs": [],
   "source": [
    "grades = {\n",
    "    85: \"A\",\n",
    "    75: \"B\",\n",
    "    65: \"C\",\n",
    "    55: \"D\",\n",
    "    50: \"E\",\n",
    "    0: \"F\",\n",
    "}\n",
    "\n",
    "def grade_mapping(value):\n",
    "    for key, letter in grades.items():\n",
    "        if value >= key:\n",
    "            return letter\n",
    "\n",
    "\n",
    "\n",
    "\n",
    "\n"
   ]
  },
  {
   "cell_type": "code",
   "execution_count": null,
   "metadata": {},
   "outputs": [],
   "source": [
    "letter_grades = final_data[\"Avg Score\"].map(grade_mapping)\n",
    "final_data[\"Grades\"] = pd.Categorical(\n",
    "    letter_grades, categories=grades.values(), ordered=True\n",
    ")"
   ]
  },
  {
   "cell_type": "code",
   "execution_count": null,
   "metadata": {},
   "outputs": [],
   "source": [
    "Status = {\n",
    "   \n",
    "    \"D\": \"Pass\",\n",
    "    \"E\": \"Retake\",\n",
    "    \"F\": \"Fail\",\n",
    "\n",
    "}\n",
    "def status_mapping(value):\n",
    "    for letter, status in Status.items():\n",
    "        if value <= letter:\n",
    "            return status"
   ]
  },
  {
   "cell_type": "code",
   "execution_count": null,
   "metadata": {},
   "outputs": [],
   "source": [
    "Status_grading = final_data[\"Grades\"].map(status_mapping)\n",
    "final_data[\"Status\"] = pd.Categorical(\n",
    "    Status_grading, categories=Status.values(), ordered=True\n",
    ")"
   ]
  },
  {
   "cell_type": "code",
   "execution_count": null,
   "metadata": {},
   "outputs": [],
   "source": []
  },
  {
   "cell_type": "markdown",
   "metadata": {},
   "source": [
    "Using input function"
   ]
  },
  {
   "cell_type": "code",
   "execution_count": null,
   "metadata": {},
   "outputs": [],
   "source": [
    "final_data = final_data.reset_index()\n"
   ]
  },
  {
   "cell_type": "code",
   "execution_count": null,
   "metadata": {},
   "outputs": [],
   "source": [
    "final_data.dtypes"
   ]
  },
  {
   "cell_type": "code",
   "execution_count": null,
   "metadata": {},
   "outputs": [],
   "source": [
    "Student_name = input(\"Enter the name of the student: \")\n",
    "for i in final_data[\"Student name\"]:\n",
    "    if i == Student_name:\n",
    "        print(i)\n",
    "\n",
    "\n"
   ]
  },
  {
   "cell_type": "markdown",
   "metadata": {},
   "source": [
    "Homework funtion"
   ]
  },
  {
   "cell_type": "code",
   "execution_count": null,
   "metadata": {},
   "outputs": [],
   "source": [
    "def Home_work():\n",
    "    Student_name = input(\"Enter the name of the student: \")\n",
    "    for i in final_data[\"Student name\"]:\n",
    "        if i == Student_name :\n",
    "\n",
    "            print(\n",
    "                \"\"\"\n",
    "                Welcome Choose subjet from the menu\n",
    "                1. Chem HW\n",
    "                2. Bio HW\n",
    "                3. Phy HW\n",
    "                4. Math HW\n",
    "                \n",
    "                \n",
    "                \"\"\"\n",
    "            )\n",
    "            subject = int(input(\"Enter subject number: \"))\n",
    "\n",
    "            if subject == 1:\n",
    "                HW = final_data.loc[final_data[\"Student name\"]== i]\n",
    "                # display(HW[\"Chem Quiz\"])\n",
    "                print(HW[[\"Student name\", \"ID\", \"Chem HW\"]])\n",
    "            elif subject == 2:\n",
    "                HW = final_data.loc[final_data[\"Student name\"] == i]\n",
    "                print(HW[[\"Student name\", \"ID\", \"Bio HW\"]])\n",
    "            elif subject == 3:\n",
    "                HW = final_data.loc[final_data[\"Student name\"] == i]\n",
    "                print(HW[[\"Student name\", \"ID\", \"Phy HW\"]])\n",
    "            elif subject == 4:\n",
    "                HW = final_data.loc[final_data[\"Student name\"] == i]\n",
    "                print(HW[[\"Student name\", \"ID\", \"Math HW\"]])\n",
    "            else:\n",
    "                print(\"Invalid subject name!! Enter subject name from the Menu\")\n",
    "                \n",
    "       \n",
    "        \n",
    "\n",
    "\n",
    "\n",
    "\n",
    "\n"
   ]
  },
  {
   "cell_type": "markdown",
   "metadata": {},
   "source": [
    "Quizes function\n"
   ]
  },
  {
   "cell_type": "code",
   "execution_count": null,
   "metadata": {},
   "outputs": [],
   "source": [
    "def Quizes():\n",
    "    \n",
    "    Student_name = input(\"Enter the name of the student: \")\n",
    "    for i in final_data[\"Student name\"]:\n",
    "        \n",
    "        if i == Student_name :\n",
    "\n",
    "            print(\n",
    "                \"\"\"\n",
    "                Welcome Choose subjet from the menu\n",
    "                1. Chem Quiz\n",
    "                2. Bio Quiz\n",
    "                3. Phy Quiz\n",
    "                4. Math Quiz\n",
    "                \n",
    "                \n",
    "                \"\"\"\n",
    "            )\n",
    "            subject = int(input(\"Enter subject number: \"))\n",
    "\n",
    "            if subject == 1:\n",
    "                HW = final_data.loc[final_data[\"Student name\"]== i]\n",
    "                # display(HW[\"Chem Quiz\"])\n",
    "                print(HW[[\"Student name\", \"ID\", \"Chem Quiz\"]])\n",
    "            elif subject == 2:\n",
    "                HW = final_data.loc[final_data[\"Student name\"] == i]\n",
    "                print(HW[[\"Student name\", \"ID\", \"Bio Quiz\"]])\n",
    "            elif subject == 3:\n",
    "                HW = final_data.loc[final_data[\"Student name\"] == i]\n",
    "                print(HW[[\"Student name\", \"ID\", \"Phy Quiz\"]])\n",
    "            elif subject == 4:\n",
    "                HW = final_data.loc[final_data[\"Student name\"] == i]\n",
    "                print(HW[[\"Student name\", \"ID\", \"Math Quiz\"]])\n",
    "            else:\n",
    "                print(\"Invalid subject name!! Enter subject name from the Menu\")\n",
    "    \n",
    "\n",
    "            \n",
    "\n",
    "\n"
   ]
  },
  {
   "cell_type": "markdown",
   "metadata": {},
   "source": [
    "Attendance function"
   ]
  },
  {
   "cell_type": "code",
   "execution_count": null,
   "metadata": {},
   "outputs": [],
   "source": [
    "def Attendance():\n",
    "    \n",
    "    Student_name = input(\"Enter the name of the student: \")\n",
    "    for i in final_data[\"Student name\"]:\n",
    "        if i == Student_name :\n",
    "\n",
    "            print(\n",
    "                \"\"\"\n",
    "                Welcome Choose subjet from the menu\n",
    "                1. Chem Attendance\n",
    "                2. Bio Attendance\n",
    "                3. Phy Attendance\n",
    "                4. Math Attendance\n",
    "                \n",
    "                \n",
    "                \"\"\"\n",
    "            )\n",
    "            subject = int(input(\"Enter subject number: \"))\n",
    "\n",
    "            if subject == 1:\n",
    "                HW = final_data.loc[final_data[\"Student name\"]== i]\n",
    "                # display(HW[\"Chem Quiz\"])\n",
    "                print(HW[[\"Student name\", \"ID\", \"Chem Atnd\"]])\n",
    "            elif subject == 2:\n",
    "                HW = final_data.loc[final_data[\"Student name\"] == i]\n",
    "                print(HW[[\"Student name\", \"ID\", \"Bio Atnd\"]])\n",
    "            elif subject == 3:\n",
    "                HW = final_data.loc[final_data[\"Student name\"] == i]\n",
    "                print(HW[[\"Student name\", \"ID\", \"Phy Atnd\"]])\n",
    "            elif subject == 4:\n",
    "                HW = final_data.loc[final_data[\"Student name\"] == i]\n",
    "                print(HW[[\"Student name\", \"ID\", \"Math Atnd\"]])\n",
    "            else:\n",
    "                print(\"Invalid subject name!! Enter subject name from the Menu\")\n",
    "                \n",
    "       \n"
   ]
  },
  {
   "cell_type": "markdown",
   "metadata": {},
   "source": [
    "Exam funtion"
   ]
  },
  {
   "cell_type": "code",
   "execution_count": null,
   "metadata": {},
   "outputs": [],
   "source": [
    "def Exam_func():\n",
    "    \n",
    "    Student_name = input(\"Enter the name of the student: \")\n",
    "    for i in final_data[\"Student name\"]:\n",
    "        if i == Student_name :\n",
    "\n",
    "            print(\n",
    "                \"\"\"\n",
    "                Welcome Choose subjet from the menu\n",
    "                1. Chem Exam\n",
    "                2. Bio Exam\n",
    "                3. Phy Exam\n",
    "                4. Math Exam\n",
    "                \n",
    "                \n",
    "                \"\"\"\n",
    "            )\n",
    "            subject = int(input(\"Enter subject number: \"))\n",
    "\n",
    "            if subject == 1:\n",
    "                HW = final_data.loc[final_data[\"Student name\"]== i]\n",
    "                # display(HW[\"Chem Quiz\"])\n",
    "                print(HW[[\"Student name\", \"ID\", \"Chem Exam\"]])\n",
    "            elif subject == 2:\n",
    "                HW = final_data.loc[final_data[\"Student name\"] == i]\n",
    "                print(HW[[\"Student name\", \"ID\", \"Bio Exam\"]])\n",
    "            elif subject == 3:\n",
    "                HW = final_data.loc[final_data[\"Student name\"] == i]\n",
    "                print(HW[[\"Student name\", \"ID\", \"Phy Exam\"]])\n",
    "            elif subject == 4:\n",
    "                HW = final_data.loc[final_data[\"Student name\"] == i]\n",
    "                print(HW[[\"Student name\", \"ID\", \"Math Exam\"]])\n",
    "            else:\n",
    "                print(\"Invalid subject name!! Enter subject name from the Menu\")\n",
    "                \n",
    "        \n",
    "\n",
    "\n"
   ]
  },
  {
   "cell_type": "markdown",
   "metadata": {},
   "source": [
    "Checking each subject Average"
   ]
  },
  {
   "cell_type": "code",
   "execution_count": null,
   "metadata": {},
   "outputs": [],
   "source": [
    "def Check_Subject_Average():\n",
    "    \n",
    "    Student_name = input(\"Enter the name of the student: \")\n",
    "    for i in final_data[\"Student name\"]:\n",
    "        if i == Student_name :\n",
    "\n",
    "            print(\n",
    "                \"\"\"\n",
    "                Welcome Choose subjet from the menu\n",
    "                1. Chem Average\n",
    "                2. Bio Average\n",
    "                3. Phy Average\n",
    "                4. Math Average\n",
    "                \n",
    "                \n",
    "                \"\"\"\n",
    "            )\n",
    "            print(\"Checking average for each subject.\")\n",
    "            subject = int(input(\"Enter subject number: \"))\n",
    "\n",
    "            if subject == 1:\n",
    "                AVG = final_data.loc[final_data[\"Student name\"]== i]\n",
    "                # display(HW[\"Chem Quiz\"])\n",
    "                print(AVG[[\"Student name\", \"ID\", \"Chem AVG\"]])\n",
    "            elif subject == 2:\n",
    "                AVG = final_data.loc[final_data[\"Student name\"] == i]\n",
    "                print(AVG[[\"Student name\", \"ID\", \"Bio  AVG\"]])\n",
    "            elif subject == 3:\n",
    "                AVG = final_data.loc[final_data[\"Student name\"] == i]\n",
    "                print(AVG[[\"Student name\", \"ID\", \"Phy AVG\"]])\n",
    "            elif subject == 4:\n",
    "                AVG = final_data.loc[final_data[\"Student name\"] == i]\n",
    "                print(AVG[[\"Student name\", \"ID\", \"Math AVG\"]])\n",
    "            else:\n",
    "                print(\"Invalid subject name!! Enter subject name from the Menu\")\n",
    "\n",
    "\n",
    "\n"
   ]
  },
  {
   "cell_type": "markdown",
   "metadata": {},
   "source": [
    "Function to Access average Score"
   ]
  },
  {
   "cell_type": "code",
   "execution_count": null,
   "metadata": {},
   "outputs": [],
   "source": [
    "def Total_Average_Score():\n",
    "    \n",
    "    Student_name = input(\"Enter the name of the student: \")\n",
    "    for i in final_data[\"Student name\"]:\n",
    "        if i == Student_name :\n",
    "\n",
    "            print(f\"Welcome !! The Average score for {i} is :\")\n",
    "            Data = final_data.loc[final_data[\"Student name\"] == i]\n",
    "            print(Data[[\"Student name\", \"ID\",\"Avg Score\"]])\n",
    "            \n",
    "                \n",
    "           \n",
    "\n",
    "\n"
   ]
  },
  {
   "cell_type": "markdown",
   "metadata": {},
   "source": [
    "Creating a function to access GPA"
   ]
  },
  {
   "cell_type": "code",
   "execution_count": null,
   "metadata": {},
   "outputs": [],
   "source": [
    "def GPA_Score():\n",
    "    \n",
    "    Student_name = input(\"Enter the name of the student: \")\n",
    "    for i in final_data[\"Student name\"]:\n",
    "        if i == Student_name :\n",
    "\n",
    "            print(f\"Welcome !! The GPA score For Student {i} is :\")\n",
    "            Data = final_data.loc[final_data[\"Student name\"] == i]\n",
    "            print(Data[[\"Student name\", \"ID\",\"(GPA)\"]])\n",
    "\n",
    "\n",
    "            \n",
    "                "
   ]
  },
  {
   "cell_type": "markdown",
   "metadata": {},
   "source": [
    "Function to access the Grade of each student"
   ]
  },
  {
   "cell_type": "code",
   "execution_count": null,
   "metadata": {},
   "outputs": [],
   "source": [
    "def Student_Grade():\n",
    "    \n",
    "    Student_name = input(\"Enter the name of the student: \")\n",
    "    for i in final_data[\"Student name\"]:\n",
    "        if i == Student_name :\n",
    "\n",
    "            print(f\"Welcome !! The Grade score for Student {i} is :\")\n",
    "            Data = final_data.loc[final_data[\"Student name\"] == i]\n",
    "            print(Data[[\"Student name\", \"ID\",\"Grades\"]])\n",
    "\n",
    "\n"
   ]
  },
  {
   "cell_type": "markdown",
   "metadata": {},
   "source": [
    "Function to check student Status"
   ]
  },
  {
   "cell_type": "code",
   "execution_count": null,
   "metadata": {},
   "outputs": [],
   "source": [
    "def Student_Status():\n",
    "    \n",
    "    Student_name = input(\"Enter the name of the student: \")\n",
    "    for i in final_data[\"Student name\"]:\n",
    "        if i == Student_name :\n",
    "\n",
    "            print(f\"Welcome !! The Status for Student  {i} is :\")\n",
    "            Data = final_data.loc[final_data[\"Student name\"] == i]\n",
    "            print(Data[[\"Student name\", \"ID\",\"Status\"]])\n",
    "    \n",
    "\n",
    "\n"
   ]
  },
  {
   "cell_type": "markdown",
   "metadata": {},
   "source": [
    "The full performance records of any student by simply providing the student’s name or ID"
   ]
  },
  {
   "cell_type": "code",
   "execution_count": null,
   "metadata": {},
   "outputs": [],
   "source": [
    "def full_Performance_Record():\n",
    "    \n",
    "    Student_name = input(\"Enter the name of the student: \")\n",
    "    for i in final_data[\"Student name\"]:\n",
    "        if i == Student_name :\n",
    "\n",
    "            print(f\"Welcome !! The Full Performance record for student {i} is :\")\n",
    "            Data = final_data.loc[final_data[\"Student name\"] == i]\n",
    "            print(Data)\n"
   ]
  },
  {
   "cell_type": "markdown",
   "metadata": {},
   "source": [
    "Fetch the list of students in any of the grade categories (A, B, C, D, E, F)"
   ]
  },
  {
   "cell_type": "code",
   "execution_count": null,
   "metadata": {},
   "outputs": [],
   "source": [
    "def Grade_Category_record():\n",
    "    print(\"\"\"\n",
    "            Welcome to student category records\n",
    "\n",
    "            Grade Categories:\n",
    "            A\n",
    "            B\n",
    "            C\n",
    "            D\n",
    "            E\n",
    "            F\n",
    "            \n",
    "            \"\"\")\n",
    "\n",
    "    Grade = input(\"Enter Grade category:\")\n",
    "    if Grade == \"A\":\n",
    "        grade_df =final_data[final_data.Grades == \"A\"]\n",
    "        print(grade_df[[\"Student name\", \"ID\", \"Grades\"]])\n",
    "    elif Grade == \"B\":\n",
    "        grade_df =final_data[final_data.Grades == \"B\"]\n",
    "        print(grade_df[[\"Student name\", \"ID\", \"Grades\"]])\n",
    "    elif Grade == \"C\":\n",
    "        grade_df =final_data[final_data.Grades == \"C\"]\n",
    "        print(grade_df[[\"Student name\", \"ID\", \"Grades\"]])\n",
    "    elif Grade == \"D\":\n",
    "        grade_df =final_data[final_data.Grades == \"D\"]\n",
    "        print(grade_df[[\"Student name\", \"ID\", \"Grades\"]])\n",
    "    elif Grade == \"E\":\n",
    "        grade_df =final_data[final_data.Grades == \"E\"]\n",
    "        print(grade_df[[\"Student name\", \"ID\", \"Grades\"]])\n",
    "    elif Grade == \"F\":\n",
    "        grade_df =final_data[final_data.Grades == \"F\"]\n",
    "        print(grade_df[[\"Student name\", \"ID\", \"Grades\"]])\n",
    "    else:\n",
    "        print(\"Invalid Grade\")\n",
    "                \n",
    "\n",
    "    \n",
    "\n",
    "\n",
    "\n",
    "    \n",
    "\n",
    "\n"
   ]
  },
  {
   "cell_type": "markdown",
   "metadata": {},
   "source": [
    "Fetch the list of students Statuses (Pass, Fail, Retake) \n"
   ]
  },
  {
   "cell_type": "code",
   "execution_count": null,
   "metadata": {},
   "outputs": [],
   "source": [
    "def Student_Status_category():\n",
    "    print(\"\"\"\n",
    "\n",
    "            Welcome to Student Status Record\n",
    "\n",
    "            Statuses Categories\n",
    "            1: Pass\n",
    "            2: Fail\n",
    "            3: Retake\n",
    "    \n",
    "    \"\"\")\n",
    "\n",
    "    status = int(input(\"Enter the Status Number: \"))\n",
    "    if status == 1:\n",
    "        status_df = (final_data[final_data.Status == \"Pass\"])\n",
    "        print(status_df[[\"Student name\", \"ID\", \"Status\"]])\n",
    "\n",
    "    elif status == 2:\n",
    "        status_df = (final_data[final_data.Status == \"Fail\"])\n",
    "        print(status_df[[\"Student name\", \"ID\", \"Status\"]])\n",
    "\n",
    "    elif status == 3:\n",
    "        status_df = (final_data[final_data.Status == \"Retake\"])\n",
    "        print(status_df[[\"Student name\", \"ID\", \"Status\"]])\n",
    "\n",
    "    else:\n",
    "        print(\"Enter the Correct Category\")\n"
   ]
  },
  {
   "cell_type": "markdown",
   "metadata": {},
   "source": [
    "Obtain a response from the script for any student to determine if they passed, failed, or need to retake the subject \n"
   ]
  },
  {
   "cell_type": "code",
   "execution_count": null,
   "metadata": {},
   "outputs": [],
   "source": [
    "Student_name = \"Wellington Zuba\"\n",
    "for i in final_data[\"Student name\"]:\n",
    "    if i == Student_name:\n",
    "        if final_data[(final_data[\"Student name\"] == Student_name) & (final_data[\"Status\"] == \"Pass\")].all():\n",
    "            print(\"You Passed\")\n",
    "        # elif final_data[(final_data[\"Student name\"] == Student_name) & (final_data[\"Status\"] == \"Fail\")].items():\n",
    "        #     print(\"You Failed\")\n",
    "        # elif final_data[(final_data[\"Student name\"] == Student_name) & (final_data[\"Status\"] == \"Retake\")].items():\n",
    "        #     print(\"You need to retake the subject\")\n",
    "\n",
    "    \n"
   ]
  },
  {
   "cell_type": "code",
   "execution_count": null,
   "metadata": {},
   "outputs": [],
   "source": [
    "def Student_response_Status():\n",
    "\n",
    "    Student_name = input(\"Enter the Student Name: \")\n",
    "    if Student_name == final_data[\"Student name\"].item():\n",
    "        print(\"Student_name\")\n",
    "            # new_data = final_data[(final_data[\"Student name\"]== i) &(final_data[\"Status\"] == \"Pass\") ]  \n",
    "            # if new_data == True:\n",
    "\n",
    "            #     print(\"you Passed\")\n",
    "        \n",
    "            \n",
    "          \n",
    "            \n",
    "            \n",
    "\n",
    "Student_response_Status()\n",
    "        \n",
    "            "
   ]
  },
  {
   "cell_type": "markdown",
   "metadata": {},
   "source": [
    "manually load each students scores by subject for quiz"
   ]
  },
  {
   "cell_type": "code",
   "execution_count": null,
   "metadata": {},
   "outputs": [],
   "source": [
    "Quizes()"
   ]
  },
  {
   "cell_type": "markdown",
   "metadata": {},
   "source": [
    "manually load each students scores by subject for Homework"
   ]
  },
  {
   "cell_type": "code",
   "execution_count": null,
   "metadata": {},
   "outputs": [],
   "source": [
    "Home_work()"
   ]
  },
  {
   "cell_type": "markdown",
   "metadata": {},
   "source": [
    "manually load each students scores by subject for Attendance"
   ]
  },
  {
   "cell_type": "code",
   "execution_count": null,
   "metadata": {},
   "outputs": [],
   "source": [
    "Attendance()"
   ]
  },
  {
   "cell_type": "markdown",
   "metadata": {},
   "source": [
    "manually load each students scores by subject for Exam"
   ]
  },
  {
   "cell_type": "code",
   "execution_count": null,
   "metadata": {},
   "outputs": [],
   "source": [
    "Exam_func()"
   ]
  },
  {
   "cell_type": "markdown",
   "metadata": {},
   "source": [
    "manually load each students scores by subject for each subject average"
   ]
  },
  {
   "cell_type": "code",
   "execution_count": null,
   "metadata": {},
   "outputs": [],
   "source": [
    "Check_Subject_Average()"
   ]
  },
  {
   "cell_type": "markdown",
   "metadata": {},
   "source": [
    "manually load each students scores by subject for each Total average score"
   ]
  },
  {
   "cell_type": "code",
   "execution_count": null,
   "metadata": {},
   "outputs": [],
   "source": [
    "Total_Average_Score()"
   ]
  },
  {
   "cell_type": "markdown",
   "metadata": {},
   "source": [
    "manually load each students scores by subject for GPA Score"
   ]
  },
  {
   "cell_type": "code",
   "execution_count": null,
   "metadata": {},
   "outputs": [],
   "source": [
    "GPA_Score()"
   ]
  },
  {
   "cell_type": "markdown",
   "metadata": {},
   "source": [
    "manually load each students Grade"
   ]
  },
  {
   "cell_type": "code",
   "execution_count": null,
   "metadata": {},
   "outputs": [],
   "source": [
    "Student_Grade()"
   ]
  },
  {
   "cell_type": "markdown",
   "metadata": {},
   "source": [
    "manually load each students Status"
   ]
  },
  {
   "cell_type": "code",
   "execution_count": null,
   "metadata": {},
   "outputs": [],
   "source": [
    "Student_Status()"
   ]
  },
  {
   "cell_type": "markdown",
   "metadata": {},
   "source": [
    "manually load each students full Performance Record"
   ]
  },
  {
   "cell_type": "code",
   "execution_count": null,
   "metadata": {},
   "outputs": [],
   "source": [
    "full_Performance_Record()"
   ]
  },
  {
   "cell_type": "markdown",
   "metadata": {},
   "source": [
    "manually load Grade category record"
   ]
  },
  {
   "cell_type": "code",
   "execution_count": null,
   "metadata": {},
   "outputs": [],
   "source": [
    "Grade_Category_record()"
   ]
  },
  {
   "cell_type": "markdown",
   "metadata": {},
   "source": [
    "manually load Student status category"
   ]
  },
  {
   "cell_type": "code",
   "execution_count": null,
   "metadata": {},
   "outputs": [],
   "source": [
    "Student_Status_category()"
   ]
  },
  {
   "cell_type": "code",
   "execution_count": null,
   "metadata": {},
   "outputs": [],
   "source": [
    "final_data.columns"
   ]
  },
  {
   "cell_type": "code",
   "execution_count": null,
   "metadata": {},
   "outputs": [],
   "source": [
    "final_data.head()"
   ]
  },
  {
   "cell_type": "code",
   "execution_count": null,
   "metadata": {},
   "outputs": [],
   "source": [
    "\n",
    "file_version = max([int(i) for i in os.listdir(\"saved_files\") + [0]]) + 1\n",
    "\n",
    "final_data.to_csv(f\"saved_files/grading_version{file_version}.csv\")\n",
    "    "
   ]
  },
  {
   "cell_type": "code",
   "execution_count": null,
   "metadata": {},
   "outputs": [],
   "source": []
  }
 ],
 "metadata": {
  "kernelspec": {
   "display_name": "Python 3.10.4 64-bit",
   "language": "python",
   "name": "python3"
  },
  "language_info": {
   "codemirror_mode": {
    "name": "ipython",
    "version": 3
   },
   "file_extension": ".py",
   "mimetype": "text/x-python",
   "name": "python",
   "nbconvert_exporter": "python",
   "pygments_lexer": "ipython3",
   "version": "3.10.4"
  },
  "orig_nbformat": 4,
  "vscode": {
   "interpreter": {
    "hash": "9d9d2c98217b744f41fccc322f7c963e9592791b03244918fc2389927e628273"
   }
  }
 },
 "nbformat": 4,
 "nbformat_minor": 2
}
